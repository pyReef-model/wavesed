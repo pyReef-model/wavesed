{
 "cells": [
  {
   "cell_type": "code",
   "execution_count": null,
   "metadata": {
    "scrolled": true
   },
   "outputs": [],
   "source": [
    "#!f2py --f90exec=mpif90 -I. -c -m ocean ocean.f90"
   ]
  },
  {
   "cell_type": "code",
   "execution_count": null,
   "metadata": {},
   "outputs": [],
   "source": [
    "import time\n",
    "import numpy as np\n",
    "\n",
    "import wave as ocean\n",
    "\n",
    "%matplotlib inline"
   ]
  },
  {
   "cell_type": "markdown",
   "metadata": {},
   "source": [
    "# Definition of model variables\n",
    "\n",
    "### Model domain / grid parameters"
   ]
  },
  {
   "cell_type": "code",
   "execution_count": null,
   "metadata": {
    "collapsed": true
   },
   "outputs": [],
   "source": [
    "file1='../data/gbr_south.csv'\n",
    "file2='../data/topoGBR1000.csv'\n",
    "\n",
    "# Bathymetric filename\n",
    "bfile = file1\n",
    "\n",
    "# Resolution factor\n",
    "rfac = 4"
   ]
  },
  {
   "cell_type": "markdown",
   "metadata": {},
   "source": [
    "### Definition of wave parameters"
   ]
  },
  {
   "cell_type": "code",
   "execution_count": null,
   "metadata": {
    "collapsed": true
   },
   "outputs": [],
   "source": [
    "# Wave heights (m)\n",
    "H0 = 2\n",
    "\n",
    "# Define wave source direction at boundary \n",
    "# (angle in degrees counterclock wise from horizontal axis)\n",
    "dir = 300\n",
    "\n",
    "# Maximum depth for wave influence (m)\n",
    "wbase = 20\n",
    "\n",
    "# Sea level position (m)\n",
    "slvl = 0."
   ]
  },
  {
   "cell_type": "markdown",
   "metadata": {},
   "source": [
    "### Definition of sediment parameters"
   ]
  },
  {
   "cell_type": "code",
   "execution_count": null,
   "metadata": {
    "collapsed": true
   },
   "outputs": [],
   "source": [
    "# Mean grain size diameter in m\n",
    "d50 = 0.0001\n",
    "\n",
    "# Steps used to perform sediment transport\n",
    "tsteps = 1000\n",
    "\n",
    "# Steps used to perform sediment diffusion\n",
    "dsteps = 1000"
   ]
  },
  {
   "cell_type": "markdown",
   "metadata": {},
   "source": [
    "# Model initialisation function\n",
    "\n",
    "### Loading the bathymetry file"
   ]
  },
  {
   "cell_type": "code",
   "execution_count": null,
   "metadata": {},
   "outputs": [],
   "source": [
    "#help(ocean.wave.__init__)"
   ]
  },
  {
   "cell_type": "code",
   "execution_count": null,
   "metadata": {
    "collapsed": true
   },
   "outputs": [],
   "source": [
    "wavesed = ocean.wave(filename=bfile,wavebase=wbase,resfac=rfac,dia=d50)"
   ]
  },
  {
   "cell_type": "markdown",
   "metadata": {},
   "source": [
    "### Defining wave region computational grid"
   ]
  },
  {
   "cell_type": "code",
   "execution_count": null,
   "metadata": {},
   "outputs": [],
   "source": [
    "t0 = time.clock()\n",
    "wavesed.findland(slvl)\n",
    "print 'Wave region computation took (s):',time.clock()-t0"
   ]
  },
  {
   "cell_type": "markdown",
   "metadata": {},
   "source": [
    "### Initialising wave boundary conditions "
   ]
  },
  {
   "cell_type": "code",
   "execution_count": null,
   "metadata": {},
   "outputs": [],
   "source": [
    "wdir = wavesed.wavesource(dir)"
   ]
  },
  {
   "cell_type": "markdown",
   "metadata": {},
   "source": [
    "# Waves evolution\n",
    "\n",
    "The waves are then transformed from deep to shallow water assuming shore-parallel depth contours. The orientation of wave fronts is determine by wave celerity and refraction due to depth variations. \n",
    "\n",
    "Travel time in the domain is calculated from Huygen's principle (using an order $\\sqrt{5}$ approximation).\n",
    "\n",
    "Assuming no refraction or loss of energy due to bottom friction, wave power P is conserved from deep to shallow water. "
   ]
  },
  {
   "cell_type": "code",
   "execution_count": null,
   "metadata": {},
   "outputs": [],
   "source": [
    "#help(wavesed.cmptwaves)"
   ]
  },
  {
   "cell_type": "code",
   "execution_count": null,
   "metadata": {},
   "outputs": [],
   "source": [
    "t0 = time.clock()\n",
    "wavesed.cmptwaves(src=wdir, h0=H0, sigma=1.)\n",
    "print 'Wave parameters computation took (s): ',time.clock()-t0"
   ]
  },
  {
   "cell_type": "markdown",
   "metadata": {},
   "source": [
    "## Visualisation of wave characteristics"
   ]
  },
  {
   "cell_type": "code",
   "execution_count": null,
   "metadata": {
    "collapsed": true
   },
   "outputs": [],
   "source": [
    "#help(wavesed.plotData)"
   ]
  },
  {
   "cell_type": "code",
   "execution_count": null,
   "metadata": {
    "scrolled": false
   },
   "outputs": [],
   "source": [
    "size = (15,30)\n",
    "i1 = 0 \n",
    "i2 = -1\n",
    "j1 = 0\n",
    "j2 = -1\n",
    "\n",
    "# Zooming to a specific region\n",
    "# i1 = 170 \n",
    "# i2 = 260 \n",
    "# j1 = 0\n",
    "# j2 = 70 \n",
    "\n",
    "\n",
    "wavesed.plotData(data='bathy', figsize=size, vmin=0, vmax=0, \n",
    "                 fontsize=10, imin=i1, imax=i2, jmin=j1, jmax=j2)\n",
    "\n",
    "wavesed.plotData(data='travel', figsize=size, tstep=400, vmin=0, vmax=0, \n",
    "                 fontsize=10, imin=i1, imax=i2, jmin=j1, jmax=j2)\n",
    "\n",
    "wavesed.plotData(data='wcelerity', figsize=size, vmin=0, vmax=15, \n",
    "                 fontsize=10, stream=3, imin=i1, imax=i2, jmin=j1, jmax=j2)\n",
    "\n",
    "wavesed.plotData(data='ubot', figsize=size, vmin=0, vmax=2, \n",
    "                 fontsize=10, imin=i1, imax=i2, jmin=j1, jmax=j2)\n",
    "\n",
    "wavesed.plotData(data='shear', figsize=size, vmin=-0.5, vmax=0.5, \n",
    "                  fontsize=10, imin=i1, imax=i2, jmin=j1, jmax=j2)"
   ]
  },
  {
   "cell_type": "markdown",
   "metadata": {},
   "source": [
    "# Sediment entrainment, transport & deposition\n",
    "\n",
    "Sediment entrainment relates to wave induced shear stress. The transport is computed according to both\n",
    "wave direction and longshore transport. Deposition is dependent of shear stress and diffusion."
   ]
  },
  {
   "cell_type": "code",
   "execution_count": null,
   "metadata": {},
   "outputs": [],
   "source": [
    "#help(wavesed.cmptsed)"
   ]
  },
  {
   "cell_type": "code",
   "execution_count": null,
   "metadata": {},
   "outputs": [],
   "source": [
    "t0 = time.clock()\n",
    "wavesed.cmptsed(sigma=1.,tsteps=tsteps,dsteps=dsteps)\n",
    "print 'Sediment erosion/deposition computation took (s): ',time.clock()-t0"
   ]
  },
  {
   "cell_type": "markdown",
   "metadata": {},
   "source": [
    "## Visualisation of sediment transport characteristics"
   ]
  },
  {
   "cell_type": "code",
   "execution_count": null,
   "metadata": {},
   "outputs": [],
   "source": [
    "#help(wavesed.plotData)"
   ]
  },
  {
   "cell_type": "code",
   "execution_count": null,
   "metadata": {
    "scrolled": false
   },
   "outputs": [],
   "source": [
    "size = (10,20)\n",
    "# i1 = 0 \n",
    "# i2 = -1\n",
    "# j1 = 0\n",
    "# j2 = -1\n",
    "\n",
    "# Zooming to a specific region\n",
    "i1 = 600 \n",
    "i2 = 1200 \n",
    "j1 = 0\n",
    "j2 = 500 \n",
    "\n",
    "wavesed.plotData(data='fbathy', figsize=size, vmin=0, vmax=0, \n",
    "                 fontsize=10, stream=0, imin=i1, imax=i2, jmin=j1, jmax=j2)\n",
    "\n",
    "wavesed.plotData(data='erodep', figsize=size, vmin=-2., vmax=2., \n",
    "                 fontsize=10, stream=0, imin=i1, imax=i2, jmin=j1, jmax=j2)"
   ]
  },
  {
   "cell_type": "markdown",
   "metadata": {},
   "source": [
    "# Saving wave/sedimentation data"
   ]
  },
  {
   "cell_type": "code",
   "execution_count": null,
   "metadata": {
    "collapsed": true
   },
   "outputs": [],
   "source": [
    "#waveparams.outputCSV(filename='erodep.csv', seddata=1)"
   ]
  },
  {
   "cell_type": "code",
   "execution_count": null,
   "metadata": {
    "collapsed": true
   },
   "outputs": [],
   "source": []
  }
 ],
 "metadata": {
  "kernelspec": {
   "display_name": "Python 2",
   "language": "python",
   "name": "python2"
  },
  "language_info": {
   "codemirror_mode": {
    "name": "ipython",
    "version": 2
   },
   "file_extension": ".py",
   "mimetype": "text/x-python",
   "name": "python",
   "nbconvert_exporter": "python",
   "pygments_lexer": "ipython2",
   "version": "2.7.6"
  }
 },
 "nbformat": 4,
 "nbformat_minor": 2
}
