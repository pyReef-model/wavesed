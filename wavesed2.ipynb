{
 "cells": [
  {
   "cell_type": "code",
   "execution_count": null,
   "metadata": {
    "collapsed": true,
    "scrolled": true
   },
   "outputs": [],
   "source": [
    "#!f2py --f90exec=mpif90 -I. -c -m ocean ocean.f90"
   ]
  },
  {
   "cell_type": "code",
   "execution_count": null,
   "metadata": {
    "collapsed": true
   },
   "outputs": [],
   "source": [
    "import time\n",
    "import numpy as np\n",
    "\n",
    "import wave as ocean\n",
    "\n",
    "import cmocean as cmo\n",
    "import matplotlib.pyplot as plt\n",
    "from mpl_toolkits.axes_grid1 import make_axes_locatable\n",
    "\n",
    "%matplotlib inline"
   ]
  },
  {
   "cell_type": "markdown",
   "metadata": {},
   "source": [
    "# Definition of model variables\n",
    "\n",
    "### Model domain / grid parameters"
   ]
  },
  {
   "cell_type": "code",
   "execution_count": null,
   "metadata": {
    "collapsed": true
   },
   "outputs": [],
   "source": [
    "file1='../data/gbr_south.csv'\n",
    "file2='../data/topoGBR1000.csv'\n",
    "\n",
    "# Bathymetric filename\n",
    "bfile = file1\n",
    "\n",
    "# Resolution factor\n",
    "rfac = 4"
   ]
  },
  {
   "cell_type": "markdown",
   "metadata": {},
   "source": [
    "### Definition of wave parameters"
   ]
  },
  {
   "cell_type": "code",
   "execution_count": null,
   "metadata": {
    "collapsed": true
   },
   "outputs": [],
   "source": [
    "# Wave heights (m)\n",
    "H0 = [2,3,2]\n",
    "\n",
    "# Define wave source direction at boundary \n",
    "# (angle in degrees counterclock wise from horizontal axis)\n",
    "dir = [300,0,90]\n",
    "\n",
    "# Percentage of each wave scenario activity (in %)\n",
    "perc = [3,3,4]\n",
    "\n",
    "# Maximum depth for wave influence (m)\n",
    "wbase = 20\n",
    "\n",
    "# Sea level position (m)\n",
    "slvl = 0."
   ]
  },
  {
   "cell_type": "markdown",
   "metadata": {},
   "source": [
    "### Definition of sediment parameters"
   ]
  },
  {
   "cell_type": "code",
   "execution_count": null,
   "metadata": {
    "collapsed": true
   },
   "outputs": [],
   "source": [
    "# Mean grain size diameter in m\n",
    "d50 = 0.0001\n",
    "\n",
    "# Steps used to perform sediment transport\n",
    "tsteps = 1000\n",
    "\n",
    "# Steps used to perform sediment diffusion\n",
    "dsteps = 1000"
   ]
  },
  {
   "cell_type": "markdown",
   "metadata": {},
   "source": [
    "# Running wavesed \n",
    "\n",
    "Here we use a unique function that computes wave and sediment evolution for a set of multiple input forcing conditions"
   ]
  },
  {
   "cell_type": "code",
   "execution_count": null,
   "metadata": {},
   "outputs": [],
   "source": [
    "#help(ocean.runWaveSed)"
   ]
  },
  {
   "cell_type": "code",
   "execution_count": null,
   "metadata": {
    "scrolled": false
   },
   "outputs": [],
   "source": [
    "avewH,avewS,aveDZ,sim = ocean.runWaveSed(bfile,rfac,H0,dir,perc,\n",
    "                                         wbase,slvl,d50,tsteps,\n",
    "                                         dsteps,size = (10,40))"
   ]
  },
  {
   "cell_type": "markdown",
   "metadata": {
    "collapsed": true
   },
   "source": [
    "# Plotting combined evolution"
   ]
  },
  {
   "cell_type": "code",
   "execution_count": null,
   "metadata": {},
   "outputs": [],
   "source": [
    "size = (20,40)\n",
    "# i1 = 0 \n",
    "# i2 = -1\n",
    "# j1 = 0\n",
    "# j2 = -1\n",
    "\n",
    "# Zooming to a specific region\n",
    "i1 = 600 \n",
    "i2 = 1200 \n",
    "j1 = 0\n",
    "j2 = 500 \n",
    "\n",
    "fig = plt.figure(figsize=size)\n",
    "ax = plt.gca()\n",
    "    \n",
    "ax.set_title('Erosion/deposition (m)', fontsize=10)\n",
    "im = ax.imshow(np.flipud(aveDZ[i1:i2,j1:j2].T),interpolation='nearest',\n",
    "                         cmap=cmo.cm.balance,vmin=-0.25, vmax=0.25)\n",
    "\n",
    "\n",
    "ax.contour(np.flipud(sim.regZ[i1:i2,j1:j2].T-sim.sealvl), 0, \n",
    "            colors='k',  linewidths=2)\n",
    "divider1 = make_axes_locatable(ax)\n",
    "cax1 = divider1.append_axes(\"right\", size=\"5%\", pad=0.05)\n",
    "cbar1 = plt.colorbar(im,cax=cax1)\n",
    "\n",
    "plt.tight_layout()\n",
    "plt.show()"
   ]
  },
  {
   "cell_type": "code",
   "execution_count": null,
   "metadata": {
    "collapsed": true
   },
   "outputs": [],
   "source": []
  }
 ],
 "metadata": {
  "kernelspec": {
   "display_name": "Python 2",
   "language": "python",
   "name": "python2"
  },
  "language_info": {
   "codemirror_mode": {
    "name": "ipython",
    "version": 2
   },
   "file_extension": ".py",
   "mimetype": "text/x-python",
   "name": "python",
   "nbconvert_exporter": "python",
   "pygments_lexer": "ipython2",
   "version": "2.7.6"
  }
 },
 "nbformat": 4,
 "nbformat_minor": 2
}
