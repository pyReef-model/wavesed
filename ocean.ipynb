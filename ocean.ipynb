{
 "cells": [
  {
   "cell_type": "code",
   "execution_count": null,
   "metadata": {
    "scrolled": true
   },
   "outputs": [],
   "source": [
    "!f2py --f90exec=mpif90 -I. -c -m ocean ocean.f90"
   ]
  },
  {
   "cell_type": "code",
   "execution_count": null,
   "metadata": {},
   "outputs": [],
   "source": [
    "import time\n",
    "import numpy as np\n",
    "\n",
    "import wave as ocean\n",
    "\n",
    "%matplotlib inline"
   ]
  },
  {
   "cell_type": "markdown",
   "metadata": {},
   "source": [
    "# Set-up bathymetry grid"
   ]
  },
  {
   "cell_type": "code",
   "execution_count": null,
   "metadata": {
    "collapsed": true
   },
   "outputs": [],
   "source": [
    "file1='../data/topoGBR1000.csv'\n",
    "file2='../data/gbr_south.csv'\n",
    "file3='../data/OTR.csv'\n",
    "\n",
    "waveparams = ocean.wave(file1,wavebase=20,resfac=3,dia=0.0001)"
   ]
  },
  {
   "cell_type": "markdown",
   "metadata": {},
   "source": [
    "# Wave climate initialisation\n",
    "\n",
    "Define wave parameters and sea level"
   ]
  },
  {
   "cell_type": "code",
   "execution_count": null,
   "metadata": {
    "collapsed": true
   },
   "outputs": [],
   "source": [
    "# Sea level position\n",
    "slvl = 0.\n",
    "# Significant wave height [L]\n",
    "H0 = 2\n",
    "\n",
    "# Define wave source at boundary\n",
    "src = np.zeros(waveparams.sregZ.shape)\n",
    "#src = np.zeros(waveparams.regZ.shape)\n",
    "src.fill(-2)\n",
    "#src[:,-1] = 0.\n",
    "src[-1,0] = 0.\n",
    "#src[100,0] = 0."
   ]
  },
  {
   "cell_type": "markdown",
   "metadata": {},
   "source": [
    "Define wave region computational grid"
   ]
  },
  {
   "cell_type": "code",
   "execution_count": null,
   "metadata": {},
   "outputs": [],
   "source": [
    "t0 = time.clock()\n",
    "waveparams.findland(slvl)\n",
    "print 'Wave region computation took (s):',time.clock()-t0"
   ]
  },
  {
   "cell_type": "markdown",
   "metadata": {},
   "source": [
    "# Waves characteristics\n",
    "\n",
    "These initial waves are then transformed from deep to shallow water assuming shore-parallel depth contours. The orientation of wave fronts is determine by wave celerity and refraction due to depth variations and travel time in the domain is calculated from Huygen's principle (using an order $\\sqrt{5}$ approximation).\n",
    "\n",
    "## Wave shoaling\n",
    "\n",
    "The coefficient n relates wave velocity to the velocity of a group of waves (Cg=Cn) describing the evolution of wave shape with shoaling.\n",
    "\n",
    "Assuming no refraction or loss of energy due to bottom friction, wave power P is conserved from deep to shallow water. The associated change in wave height can be described using a shoaling coefficient KS found by equating the power of deep water waves P0 to that of shallow waves P:\n",
    " $$Ks = \\sqrt{\\frac{1}{2n}}$$\n",
    "Shoaling results in a slight reduction in wave height as a wave enters intermediate water depths, but approaching shallow water, wave height increases."
   ]
  },
  {
   "cell_type": "code",
   "execution_count": null,
   "metadata": {},
   "outputs": [],
   "source": [
    "t0 = time.clock()\n",
    "waveparams.cmptwaves(src, h0=H0, sigma=1.)\n",
    "print 'Wave parameters computation took (s): ',time.clock()-t0"
   ]
  },
  {
   "cell_type": "markdown",
   "metadata": {},
   "source": [
    "## Visualisation of wave characteristics"
   ]
  },
  {
   "cell_type": "code",
   "execution_count": null,
   "metadata": {
    "scrolled": false
   },
   "outputs": [],
   "source": [
    "size = (20,40)\n",
    "i1 = 0 \n",
    "i2 = -1\n",
    "j1 = 0\n",
    "j2 = -1\n",
    "\n",
    "# waveparams.plotData(data='bathy', figsize=size, vmin=0, vmax=0, \n",
    "#                  fontsize=10, imin=i1, imax=i2, jmin=j1, jmax=j2)\n",
    "\n",
    "# waveparams.plotData(data='travel', figsize=size, tstep=800, vmin=0, vmax=0, \n",
    "#                  fontsize=10, imin=i1, imax=i2, jmin=j1, jmax=j2)\n",
    "\n",
    "# waveparams.plotData(data='wcelerity', figsize=size, vmin=0, vmax=15, \n",
    "#                  fontsize=10, stream=3, imin=i1, imax=i2, jmin=j1, jmax=j2)\n",
    "\n",
    "# waveparams.plotData(data='ubot', figsize=size, vmin=0, vmax=2, \n",
    "#                  fontsize=10, imin=i1, imax=i2, jmin=j1, jmax=j2)\n",
    "\n",
    "# waveparams.plotData(data='shear', figsize=size, vmin=-0.5, vmax=0.5, \n",
    "#                   fontsize=10, imin=i1, imax=i2, jmin=j1, jmax=j2)"
   ]
  },
  {
   "cell_type": "markdown",
   "metadata": {},
   "source": [
    "# Sediment transport"
   ]
  },
  {
   "cell_type": "code",
   "execution_count": null,
   "metadata": {},
   "outputs": [],
   "source": [
    "t0 = time.clock()\n",
    "waveparams.cmptsed(sigma=1.,tsteps=500,dsteps=1000)\n",
    "print 'Sediment erosion/deposition computation took (s): ',time.clock()-t0"
   ]
  },
  {
   "cell_type": "markdown",
   "metadata": {},
   "source": [
    "## Visualisation of sediment transport characteristics"
   ]
  },
  {
   "cell_type": "code",
   "execution_count": null,
   "metadata": {
    "scrolled": false
   },
   "outputs": [],
   "source": [
    "size = (10,20)\n",
    "i1 = 0 \n",
    "i2 = -1 \n",
    "j1 = 0\n",
    "j2 = -1 \n",
    "\n",
    "waveparams.plotData(data='fbathy', figsize=size, vmin=0, vmax=0, \n",
    "                 fontsize=10, stream=0, imin=i1, imax=i2, jmin=j1, jmax=j2)\n",
    "\n",
    "waveparams.plotData(data='erodep', figsize=size, vmin=-0.5, vmax=0.5, \n",
    "                 fontsize=10, stream=0, imin=i1, imax=i2, jmin=j1, jmax=j2)"
   ]
  },
  {
   "cell_type": "code",
   "execution_count": null,
   "metadata": {
    "collapsed": true
   },
   "outputs": [],
   "source": [
    "waveparams.outputCSV(filename='erodep.csv', seddata=1)"
   ]
  },
  {
   "cell_type": "code",
   "execution_count": null,
   "metadata": {
    "collapsed": true
   },
   "outputs": [],
   "source": []
  }
 ],
 "metadata": {
  "kernelspec": {
   "display_name": "Python 2",
   "language": "python",
   "name": "python2"
  },
  "language_info": {
   "codemirror_mode": {
    "name": "ipython",
    "version": 2
   },
   "file_extension": ".py",
   "mimetype": "text/x-python",
   "name": "python",
   "nbconvert_exporter": "python",
   "pygments_lexer": "ipython2",
   "version": "2.7.6"
  }
 },
 "nbformat": 4,
 "nbformat_minor": 2
}
